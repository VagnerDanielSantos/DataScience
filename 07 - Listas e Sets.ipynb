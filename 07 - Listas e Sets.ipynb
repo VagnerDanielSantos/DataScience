{
 "cells": [
  {
   "cell_type": "markdown",
   "metadata": {},
   "source": [
    "# LISTAS"
   ]
  },
  {
   "cell_type": "code",
   "execution_count": 1,
   "metadata": {
    "collapsed": true
   },
   "outputs": [],
   "source": [
    "# Criação de listas\n",
    "\n",
    "linguagens = ['Python', 'R', 'Julia', 'C++']"
   ]
  },
  {
   "cell_type": "code",
   "execution_count": 2,
   "metadata": {},
   "outputs": [
    {
     "name": "stdout",
     "output_type": "stream",
     "text": [
      "['Python', 'R', 'Julia', 'C++']\n"
     ]
    }
   ],
   "source": [
    "print(linguagens)"
   ]
  },
  {
   "cell_type": "code",
   "execution_count": 3,
   "metadata": {
    "collapsed": true
   },
   "outputs": [],
   "source": [
    "# lista heterogênea\n",
    "\n",
    "mundiais = ['Brasil', 58, 62, 70, 94, 2002]"
   ]
  },
  {
   "cell_type": "code",
   "execution_count": 4,
   "metadata": {},
   "outputs": [
    {
     "name": "stdout",
     "output_type": "stream",
     "text": [
      "['Brasil', 58, 62, 70, 94, 2002]\n"
     ]
    }
   ],
   "source": [
    "print(mundiais)"
   ]
  },
  {
   "cell_type": "code",
   "execution_count": 5,
   "metadata": {
    "collapsed": true
   },
   "outputs": [],
   "source": [
    "# Assim como em strings, podemos indexar listas\n",
    "\n",
    "pais = mundiais[0]\n",
    "Titulo01 = mundiais[1]\n",
    "Titulo02 = mundiais[2]\n",
    "Titulo03 = mundiais[3]\n",
    "Titulo04 = mundiais[4]\n",
    "Titulo05 = mundiais[5]"
   ]
  },
  {
   "cell_type": "code",
   "execution_count": 6,
   "metadata": {},
   "outputs": [
    {
     "name": "stdout",
     "output_type": "stream",
     "text": [
      "Brasil\n",
      "\n",
      "\n",
      "O primeiro título mundial do Brasil foi em: 58\n",
      "O segundo  título mundial do Brasil foi em: 62\n",
      "O terceiro título mundial do Brasil foi em: 70\n",
      "O quarto   título mundial do Brasil foi em: 94\n",
      "O quinto   título mundial do Brasil foi em: 2002\n"
     ]
    }
   ],
   "source": [
    "print(pais)\n",
    "print('\\n')\n",
    "print(\"O primeiro título mundial do Brasil foi em:\",Titulo01)\n",
    "print(\"O segundo  título mundial do Brasil foi em:\",Titulo02)\n",
    "print(\"O terceiro título mundial do Brasil foi em:\",Titulo03)\n",
    "print(\"O quarto   título mundial do Brasil foi em:\",Titulo04)\n",
    "print(\"O quinto   título mundial do Brasil foi em:\",Titulo05)"
   ]
  },
  {
   "cell_type": "markdown",
   "metadata": {},
   "source": [
    "# Atualização de listas"
   ]
  },
  {
   "cell_type": "code",
   "execution_count": 7,
   "metadata": {},
   "outputs": [],
   "source": [
    "# Listas são mutáveis\n",
    "\n",
    "mundiais[0] = \"Alemanha\""
   ]
  },
  {
   "cell_type": "code",
   "execution_count": 8,
   "metadata": {},
   "outputs": [
    {
     "data": {
      "text/plain": [
       "'Alemanha'"
      ]
     },
     "execution_count": 8,
     "metadata": {},
     "output_type": "execute_result"
    }
   ],
   "source": [
    "mundiais[0]"
   ]
  },
  {
   "cell_type": "code",
   "execution_count": 9,
   "metadata": {},
   "outputs": [
    {
     "data": {
      "text/plain": [
       "['Alemanha', 58, 62, 70, 94, 2002]"
      ]
     },
     "execution_count": 9,
     "metadata": {},
     "output_type": "execute_result"
    }
   ],
   "source": [
    "mundiais"
   ]
  },
  {
   "cell_type": "markdown",
   "metadata": {},
   "source": [
    "# Operações com listas"
   ]
  },
  {
   "cell_type": "code",
   "execution_count": null,
   "metadata": {
    "collapsed": true
   },
   "outputs": [],
   "source": [
    "# Delete - Podemos deletar um elemento separado ou um range através do ÍNDICE"
   ]
  },
  {
   "cell_type": "code",
   "execution_count": 10,
   "metadata": {
    "collapsed": true
   },
   "outputs": [],
   "source": [
    "del mundiais[1 :]"
   ]
  },
  {
   "cell_type": "code",
   "execution_count": 11,
   "metadata": {},
   "outputs": [
    {
     "name": "stdout",
     "output_type": "stream",
     "text": [
      "['Alemanha']\n"
     ]
    }
   ],
   "source": [
    "print(mundiais)"
   ]
  },
  {
   "cell_type": "code",
   "execution_count": 12,
   "metadata": {
    "collapsed": true
   },
   "outputs": [],
   "source": [
    "# Adicionando elemento\n",
    "\n",
    "mundiais.append(2014)"
   ]
  },
  {
   "cell_type": "code",
   "execution_count": 13,
   "metadata": {},
   "outputs": [
    {
     "name": "stdout",
     "output_type": "stream",
     "text": [
      "['Alemanha', 2014]\n"
     ]
    }
   ],
   "source": [
    "print(mundiais)"
   ]
  },
  {
   "cell_type": "code",
   "execution_count": 14,
   "metadata": {
    "collapsed": true
   },
   "outputs": [],
   "source": [
    "# Adicionando mais de um elemento \n",
    "\n",
    "mundiais.extend([1954, 1974, 1990, 1998])"
   ]
  },
  {
   "cell_type": "code",
   "execution_count": 15,
   "metadata": {},
   "outputs": [
    {
     "name": "stdout",
     "output_type": "stream",
     "text": [
      "['Alemanha', 2014, 1954, 1974, 1990, 1998]\n"
     ]
    }
   ],
   "source": [
    "print(mundiais)"
   ]
  },
  {
   "cell_type": "code",
   "execution_count": 16,
   "metadata": {
    "collapsed": true
   },
   "outputs": [],
   "source": [
    "# Podemos remover um elemento específico com a função REMOVE\n",
    "\n",
    "mundiais.remove(1990)"
   ]
  },
  {
   "cell_type": "code",
   "execution_count": 17,
   "metadata": {},
   "outputs": [
    {
     "name": "stdout",
     "output_type": "stream",
     "text": [
      "['Alemanha', 2014, 1954, 1974, 1998]\n"
     ]
    }
   ],
   "source": [
    "print(mundiais)"
   ]
  },
  {
   "cell_type": "markdown",
   "metadata": {},
   "source": [
    "# Listas Aninhadas"
   ]
  },
  {
   "cell_type": "code",
   "execution_count": 18,
   "metadata": {
    "collapsed": true
   },
   "outputs": [],
   "source": [
    "mundiais = [['Brasil', 1958, 1962, 1970, 1994, 2002], ['Alemanha', 1954, 1974, 1990, 2014]]"
   ]
  },
  {
   "cell_type": "code",
   "execution_count": 19,
   "metadata": {},
   "outputs": [
    {
     "name": "stdout",
     "output_type": "stream",
     "text": [
      "[['Brasil', 1958, 1962, 1970, 1994, 2002], ['Alemanha', 1954, 1974, 1990, 2014]]\n"
     ]
    }
   ],
   "source": [
    "print(mundiais)"
   ]
  },
  {
   "cell_type": "code",
   "execution_count": 20,
   "metadata": {},
   "outputs": [
    {
     "name": "stdout",
     "output_type": "stream",
     "text": [
      "['Alemanha', 1954, 1974, 1990, 2014]\n"
     ]
    }
   ],
   "source": [
    "# Trazendo o primeiro elemento da lista\n",
    "\n",
    "print(mundiais[1])"
   ]
  },
  {
   "cell_type": "code",
   "execution_count": 21,
   "metadata": {},
   "outputs": [
    {
     "name": "stdout",
     "output_type": "stream",
     "text": [
      "1962\n"
     ]
    }
   ],
   "source": [
    "# Acessando a lista e trazendo o segundo título do Brasil\n",
    "\n",
    "print(mundiais[0][2])"
   ]
  },
  {
   "cell_type": "markdown",
   "metadata": {},
   "source": [
    "# Concatenando Listas"
   ]
  },
  {
   "cell_type": "code",
   "execution_count": 22,
   "metadata": {
    "collapsed": true
   },
   "outputs": [],
   "source": [
    "a = ['Argentina', 1986, 1978]"
   ]
  },
  {
   "cell_type": "code",
   "execution_count": 23,
   "metadata": {
    "collapsed": true
   },
   "outputs": [],
   "source": [
    "b = ['Alemanha', 1954, 1974, 1990, 2014]"
   ]
  },
  {
   "cell_type": "code",
   "execution_count": 24,
   "metadata": {
    "collapsed": true
   },
   "outputs": [],
   "source": [
    "c = ['Brasil', 1958, 1962, 1970, 1994, 2002]"
   ]
  },
  {
   "cell_type": "code",
   "execution_count": 25,
   "metadata": {
    "collapsed": true
   },
   "outputs": [],
   "source": [
    "# Concatendo\n",
    "\n",
    "fifa = a + b + c"
   ]
  },
  {
   "cell_type": "code",
   "execution_count": 26,
   "metadata": {},
   "outputs": [
    {
     "data": {
      "text/plain": [
       "['Argentina',\n",
       " 1986,\n",
       " 1978,\n",
       " 'Alemanha',\n",
       " 1954,\n",
       " 1974,\n",
       " 1990,\n",
       " 2014,\n",
       " 'Brasil',\n",
       " 1958,\n",
       " 1962,\n",
       " 1970,\n",
       " 1994,\n",
       " 2002]"
      ]
     },
     "execution_count": 26,
     "metadata": {},
     "output_type": "execute_result"
    }
   ],
   "source": [
    "fifa"
   ]
  },
  {
   "cell_type": "code",
   "execution_count": 28,
   "metadata": {},
   "outputs": [
    {
     "data": {
      "text/plain": [
       "2014"
      ]
     },
     "execution_count": 28,
     "metadata": {},
     "output_type": "execute_result"
    }
   ],
   "source": [
    "fifa[7]"
   ]
  },
  {
   "cell_type": "markdown",
   "metadata": {},
   "source": [
    "# Operador in"
   ]
  },
  {
   "cell_type": "code",
   "execution_count": 29,
   "metadata": {},
   "outputs": [
    {
     "name": "stdout",
     "output_type": "stream",
     "text": [
      "False\n"
     ]
    }
   ],
   "source": [
    "# Verificado se um elemento está na lista\n",
    "\n",
    "print('Uruguai' in fifa)"
   ]
  },
  {
   "cell_type": "code",
   "execution_count": 30,
   "metadata": {},
   "outputs": [
    {
     "name": "stdout",
     "output_type": "stream",
     "text": [
      "True\n"
     ]
    }
   ],
   "source": [
    "print('Argentina' in fifa)"
   ]
  },
  {
   "cell_type": "code",
   "execution_count": 31,
   "metadata": {},
   "outputs": [
    {
     "name": "stdout",
     "output_type": "stream",
     "text": [
      "O indíce da equipe:  3\n",
      "Alemanha\n",
      "[1954, 1974, 1990, 2014, 'Brasil', 1958, 1962, 1970, 1994, 2002]\n"
     ]
    }
   ],
   "source": [
    "# Imprimindo uma lista de uma equipe\n",
    "\n",
    "equipe = 'Alemanha'\n",
    "\n",
    "if equipe in fifa:\n",
    "    a = fifa.index(equipe)\n",
    "    print('O indíce da equipe: ', a)\n",
    "    print(equipe)\n",
    "    print(fifa[a + 1 :])\n",
    "else:\n",
    "    print(equipe + 'Não possui títulos ou não está na lista.')\n",
    "\n",
    "\n",
    "\n"
   ]
  },
  {
   "cell_type": "markdown",
   "metadata": {},
   "source": [
    "# Funções Built-in"
   ]
  },
  {
   "cell_type": "code",
   "execution_count": 32,
   "metadata": {},
   "outputs": [
    {
     "data": {
      "text/plain": [
       "14"
      ]
     },
     "execution_count": 32,
     "metadata": {},
     "output_type": "execute_result"
    }
   ],
   "source": [
    "# Retorna o tamanho da lista\n",
    "\n",
    "len(fifa)"
   ]
  },
  {
   "cell_type": "code",
   "execution_count": 33,
   "metadata": {},
   "outputs": [
    {
     "ename": "TypeError",
     "evalue": "'>' not supported between instances of 'int' and 'str'",
     "output_type": "error",
     "traceback": [
      "\u001b[1;31m---------------------------------------------------------------------------\u001b[0m",
      "\u001b[1;31mTypeError\u001b[0m                                 Traceback (most recent call last)",
      "\u001b[1;32m<ipython-input-33-fb40c36a6c5f>\u001b[0m in \u001b[0;36m<module>\u001b[1;34m()\u001b[0m\n\u001b[0;32m      1\u001b[0m \u001b[1;31m# Valor máximo da lista -Não funciona com lisas heterogêneas\u001b[0m\u001b[1;33m\u001b[0m\u001b[1;33m\u001b[0m\u001b[0m\n\u001b[0;32m      2\u001b[0m \u001b[1;33m\u001b[0m\u001b[0m\n\u001b[1;32m----> 3\u001b[1;33m \u001b[0mmax\u001b[0m\u001b[1;33m(\u001b[0m\u001b[0mfifa\u001b[0m\u001b[1;33m)\u001b[0m\u001b[1;33m\u001b[0m\u001b[0m\n\u001b[0m",
      "\u001b[1;31mTypeError\u001b[0m: '>' not supported between instances of 'int' and 'str'"
     ]
    }
   ],
   "source": [
    "# Valor máximo da lista -Não funciona com lisas heterogêneas\n",
    "\n",
    "max(fifa)"
   ]
  },
  {
   "cell_type": "code",
   "execution_count": 34,
   "metadata": {
    "collapsed": true
   },
   "outputs": [],
   "source": [
    "numeros = [100, 22, 88, 76, 89, 41, 12]\n",
    "palavras = ['Maça', 'Abacaxi', 'Melão', 'Tomate', 'Caqui'] # Alfabeticamente"
   ]
  },
  {
   "cell_type": "code",
   "execution_count": 35,
   "metadata": {},
   "outputs": [
    {
     "name": "stdout",
     "output_type": "stream",
     "text": [
      "100\n",
      "Tomate\n"
     ]
    }
   ],
   "source": [
    "print(max(numeros))\n",
    "print(max(palavras))"
   ]
  },
  {
   "cell_type": "code",
   "execution_count": 36,
   "metadata": {},
   "outputs": [
    {
     "name": "stdout",
     "output_type": "stream",
     "text": [
      "12\n",
      "Abacaxi\n"
     ]
    }
   ],
   "source": [
    "# Valor mínimo da lista\n",
    "\n",
    "print(min(numeros))\n",
    "print(min(palavras))"
   ]
  },
  {
   "cell_type": "code",
   "execution_count": 37,
   "metadata": {},
   "outputs": [
    {
     "data": {
      "text/plain": [
       "[9, 8, 7, 6, 5, 4, 3, 2, 1, 0]"
      ]
     },
     "execution_count": 37,
     "metadata": {},
     "output_type": "execute_result"
    }
   ],
   "source": [
    "# Reverter a lista POSICIONALMENTE\n",
    "\n",
    "numeros = [0, 1, 2, 3, 4, 5, 6, 7, 8, 9]\n",
    "numeros.reverse()\n",
    "numeros"
   ]
  },
  {
   "cell_type": "code",
   "execution_count": 38,
   "metadata": {},
   "outputs": [
    {
     "data": {
      "text/plain": [
       "[0, 1, 2, 3, 4, 5, 6, 7, 8, 9]"
      ]
     },
     "execution_count": 38,
     "metadata": {},
     "output_type": "execute_result"
    }
   ],
   "source": [
    "# Ordena a lista em ordem CRESCENTE\n",
    "\n",
    "numeros.sort()\n",
    "numeros"
   ]
  },
  {
   "cell_type": "code",
   "execution_count": 39,
   "metadata": {},
   "outputs": [
    {
     "data": {
      "text/plain": [
       "2"
      ]
     },
     "execution_count": 39,
     "metadata": {},
     "output_type": "execute_result"
    }
   ],
   "source": [
    "# Adicionando um valor repetido\n",
    "# palavras = ['Maça', 'Abacaxi', 'Melão', 'Tomate', 'Caqui']\n",
    "\n",
    "palavras.append('Tomate')\n",
    "\n",
    "# Contado o número de ocorrências\n",
    "\n",
    "palavras.count('Tomate')"
   ]
  },
  {
   "cell_type": "code",
   "execution_count": 40,
   "metadata": {
    "collapsed": true
   },
   "outputs": [],
   "source": [
    "# Criando uma lista vazia\n",
    "\n",
    "a = []"
   ]
  },
  {
   "cell_type": "code",
   "execution_count": 41,
   "metadata": {},
   "outputs": [
    {
     "name": "stdout",
     "output_type": "stream",
     "text": [
      "[]\n"
     ]
    }
   ],
   "source": [
    "print(a)"
   ]
  },
  {
   "cell_type": "code",
   "execution_count": 42,
   "metadata": {},
   "outputs": [
    {
     "data": {
      "text/plain": [
       "list"
      ]
     },
     "execution_count": 42,
     "metadata": {},
     "output_type": "execute_result"
    }
   ],
   "source": [
    "type(a)"
   ]
  },
  {
   "cell_type": "code",
   "execution_count": null,
   "metadata": {
    "collapsed": true
   },
   "outputs": [],
   "source": [
    "# POP - Retira o último objeto da lista, mas tem como retorno o próprio objeto. É POSICIONAL"
   ]
  },
  {
   "cell_type": "code",
   "execution_count": 43,
   "metadata": {},
   "outputs": [
    {
     "name": "stdout",
     "output_type": "stream",
     "text": [
      "['B', 'C', 'A', 'H', 'Y']\n"
     ]
    }
   ],
   "source": [
    "lista = ['B', 'C', 'A', 'H', 'Y']\n",
    "\n",
    "print(lista)"
   ]
  },
  {
   "cell_type": "code",
   "execution_count": 44,
   "metadata": {},
   "outputs": [
    {
     "name": "stdout",
     "output_type": "stream",
     "text": [
      "Y\n"
     ]
    }
   ],
   "source": [
    "print(lista.pop())"
   ]
  },
  {
   "cell_type": "code",
   "execution_count": 45,
   "metadata": {},
   "outputs": [
    {
     "name": "stdout",
     "output_type": "stream",
     "text": [
      "['Estatística', 'Matemática', 'ETL', 'HADOOP', 'BIG DATA', 'DATA SCIENCE', 'HIVE', 'SPARK', 'SQL']\n"
     ]
    }
   ],
   "source": [
    "lista = ['Estatística', 'Matemática', 'ETL', 'HADOOP', 'BIG DATA', 'DATA SCIENCE', 'HIVE', 'SPARK', 'SQL']\n",
    "\n",
    "print(lista)"
   ]
  },
  {
   "cell_type": "code",
   "execution_count": 46,
   "metadata": {},
   "outputs": [
    {
     "name": "stdout",
     "output_type": "stream",
     "text": [
      "SQL\n"
     ]
    }
   ],
   "source": [
    "print(lista.pop())"
   ]
  },
  {
   "cell_type": "code",
   "execution_count": 47,
   "metadata": {},
   "outputs": [
    {
     "name": "stdout",
     "output_type": "stream",
     "text": [
      "['Estatística', 'Matemática', 'ETL', 'HADOOP', 'BIG DATA', 'DATA SCIENCE', 'HIVE', 'SPARK']\n"
     ]
    }
   ],
   "source": [
    "print(lista)"
   ]
  },
  {
   "cell_type": "code",
   "execution_count": 48,
   "metadata": {},
   "outputs": [
    {
     "name": "stdout",
     "output_type": "stream",
     "text": [
      "Retirado o objeto:  BIG DATA\n"
     ]
    }
   ],
   "source": [
    "# Podemos também INDEXAR o objeto, iniciando de ( 0 )\n",
    "\n",
    "print('Retirado o objeto: ', lista.pop(4))"
   ]
  },
  {
   "cell_type": "code",
   "execution_count": 49,
   "metadata": {},
   "outputs": [
    {
     "name": "stdout",
     "output_type": "stream",
     "text": [
      "['Estatística', 'Matemática', 'ETL', 'HADOOP', 'DATA SCIENCE', 'HIVE', 'SPARK']\n"
     ]
    }
   ],
   "source": [
    "print(lista)"
   ]
  },
  {
   "cell_type": "code",
   "execution_count": 52,
   "metadata": {},
   "outputs": [
    {
     "name": "stdout",
     "output_type": "stream",
     "text": [
      "Desejo retirar o objeto \"Matemática\". Retirado:  Matemática\n"
     ]
    }
   ],
   "source": [
    "print('Desejo retirar o objeto \"Matemática\". Retirado: ',lista.pop(1))"
   ]
  },
  {
   "cell_type": "markdown",
   "metadata": {},
   "source": [
    "# Os sets são conjuntos únicos. Semelhantes à um SELECT DISTINCT, e são muito utilizados em análise de dados. "
   ]
  },
  {
   "cell_type": "code",
   "execution_count": 53,
   "metadata": {
    "collapsed": true
   },
   "outputs": [],
   "source": [
    "conjunto = set()"
   ]
  },
  {
   "cell_type": "code",
   "execution_count": 54,
   "metadata": {
    "collapsed": true
   },
   "outputs": [],
   "source": [
    "conjunto.add('C#')\n",
    "conjunto.add('Python')\n",
    "conjunto.add('R')\n",
    "conjunto.add('PL/SQL')"
   ]
  },
  {
   "cell_type": "code",
   "execution_count": 55,
   "metadata": {},
   "outputs": [
    {
     "name": "stdout",
     "output_type": "stream",
     "text": [
      "{'R', 'PL/SQL', 'C#', 'Python'}\n"
     ]
    }
   ],
   "source": [
    "print(conjunto)"
   ]
  },
  {
   "cell_type": "code",
   "execution_count": 56,
   "metadata": {
    "collapsed": true
   },
   "outputs": [],
   "source": [
    "# Tentondo adicionar um elemento repetido\n",
    "\n",
    "conjunto.add('C#')"
   ]
  },
  {
   "cell_type": "code",
   "execution_count": 57,
   "metadata": {},
   "outputs": [
    {
     "name": "stdout",
     "output_type": "stream",
     "text": [
      "{'R', 'PL/SQL', 'C#', 'Python'}\n"
     ]
    }
   ],
   "source": [
    "# Imprimindo novamento\n",
    "\n",
    "print(conjunto)"
   ]
  },
  {
   "cell_type": "code",
   "execution_count": 58,
   "metadata": {},
   "outputs": [
    {
     "ename": "TypeError",
     "evalue": "'set' object does not support indexing",
     "output_type": "error",
     "traceback": [
      "\u001b[1;31m---------------------------------------------------------------------------\u001b[0m",
      "\u001b[1;31mTypeError\u001b[0m                                 Traceback (most recent call last)",
      "\u001b[1;32m<ipython-input-58-3aab490c25af>\u001b[0m in \u001b[0;36m<module>\u001b[1;34m()\u001b[0m\n\u001b[0;32m      1\u001b[0m \u001b[1;31m# SETS não suportam indexação\u001b[0m\u001b[1;33m\u001b[0m\u001b[1;33m\u001b[0m\u001b[0m\n\u001b[0;32m      2\u001b[0m \u001b[1;33m\u001b[0m\u001b[0m\n\u001b[1;32m----> 3\u001b[1;33m \u001b[0mconjunto\u001b[0m\u001b[1;33m[\u001b[0m\u001b[1;36m1\u001b[0m\u001b[1;33m]\u001b[0m\u001b[1;33m\u001b[0m\u001b[0m\n\u001b[0m",
      "\u001b[1;31mTypeError\u001b[0m: 'set' object does not support indexing"
     ]
    }
   ],
   "source": [
    "# SETS não suportam indexação\n",
    "\n",
    "conjunto[1]"
   ]
  },
  {
   "cell_type": "code",
   "execution_count": 59,
   "metadata": {},
   "outputs": [
    {
     "data": {
      "text/plain": [
       "set"
      ]
     },
     "execution_count": 59,
     "metadata": {},
     "output_type": "execute_result"
    }
   ],
   "source": [
    "type(conjunto)"
   ]
  },
  {
   "cell_type": "code",
   "execution_count": 60,
   "metadata": {
    "collapsed": true
   },
   "outputs": [],
   "source": [
    "engenheiros = set(['João', 'Maria', 'Kátia', 'Priscilla', 'Robson'])\n",
    "programadores = set(['Maria', 'Belarmino', 'Creuza', 'Geronimo', 'Sabrina', 'Vagner', 'João'])\n",
    "gerentes = set(['Paulo', 'Ana', 'Robson'])"
   ]
  },
  {
   "cell_type": "code",
   "execution_count": 61,
   "metadata": {},
   "outputs": [
    {
     "data": {
      "text/plain": [
       "{'João', 'Kátia', 'Maria', 'Priscilla', 'Robson'}"
      ]
     },
     "execution_count": 61,
     "metadata": {},
     "output_type": "execute_result"
    }
   ],
   "source": [
    "engenheiros"
   ]
  },
  {
   "cell_type": "code",
   "execution_count": 62,
   "metadata": {},
   "outputs": [
    {
     "data": {
      "text/plain": [
       "{'Ana',\n",
       " 'Belarmino',\n",
       " 'Creuza',\n",
       " 'Geronimo',\n",
       " 'João',\n",
       " 'Kátia',\n",
       " 'Maria',\n",
       " 'Paulo',\n",
       " 'Priscilla',\n",
       " 'Robson',\n",
       " 'Sabrina',\n",
       " 'Vagner'}"
      ]
     },
     "execution_count": 62,
     "metadata": {},
     "output_type": "execute_result"
    }
   ],
   "source": [
    "# União\n",
    "\n",
    "funcionarios = engenheiros | programadores | gerentes\n",
    "\n",
    "funcionarios"
   ]
  },
  {
   "cell_type": "code",
   "execution_count": 63,
   "metadata": {},
   "outputs": [
    {
     "ename": "AttributeError",
     "evalue": "'set' object has no attribute 'sort'",
     "output_type": "error",
     "traceback": [
      "\u001b[1;31m---------------------------------------------------------------------------\u001b[0m",
      "\u001b[1;31mAttributeError\u001b[0m                            Traceback (most recent call last)",
      "\u001b[1;32m<ipython-input-63-1839d154f3f1>\u001b[0m in \u001b[0;36m<module>\u001b[1;34m()\u001b[0m\n\u001b[1;32m----> 1\u001b[1;33m \u001b[0mfuncionarios\u001b[0m\u001b[1;33m.\u001b[0m\u001b[0msort\u001b[0m\u001b[1;33m(\u001b[0m\u001b[1;33m)\u001b[0m\u001b[1;33m\u001b[0m\u001b[0m\n\u001b[0m",
      "\u001b[1;31mAttributeError\u001b[0m: 'set' object has no attribute 'sort'"
     ]
    }
   ],
   "source": [
    "funcionarios.sort()"
   ]
  },
  {
   "cell_type": "code",
   "execution_count": 64,
   "metadata": {},
   "outputs": [
    {
     "data": {
      "text/plain": [
       "{'Robson'}"
      ]
     },
     "execution_count": 64,
     "metadata": {},
     "output_type": "execute_result"
    }
   ],
   "source": [
    "# Interseção\n",
    "\n",
    "gerencia_de_engenharia = engenheiros & gerentes\n",
    "\n",
    "gerencia_de_engenharia"
   ]
  },
  {
   "cell_type": "code",
   "execution_count": 65,
   "metadata": {},
   "outputs": [
    {
     "data": {
      "text/plain": [
       "{'Clarice', 'Janaina'}"
      ]
     },
     "execution_count": 65,
     "metadata": {},
     "output_type": "execute_result"
    }
   ],
   "source": [
    "# Diferença\n",
    "\n",
    "gerentes = set(['Janaina', 'Clarice', 'Marcos', 'Suzana'])\n",
    "engenheiros = set(['Marcos', 'Suzana'])\n",
    "\n",
    "diferenca = gerentes - engenheiros\n",
    "\n",
    "diferenca"
   ]
  },
  {
   "cell_type": "code",
   "execution_count": 66,
   "metadata": {},
   "outputs": [
    {
     "data": {
      "text/plain": [
       "{'Clarice', 'Janaina', 'Marcos', 'Suzana'}"
      ]
     },
     "execution_count": 66,
     "metadata": {},
     "output_type": "execute_result"
    }
   ],
   "source": [
    "gerentes = set(['Janaina', 'Clarice', 'Marcos', 'Suzana', 'Sabrina'])\n",
    "programadores = set(['Maria', 'Belarmino', 'Creuza', 'Geronimo', 'Sabrina', 'Vagner', 'João'])\n",
    "\n",
    "diferenca = gerentes - programadores\n",
    "\n",
    "diferenca"
   ]
  }
 ],
 "metadata": {
  "kernelspec": {
   "display_name": "Python 3",
   "language": "python",
   "name": "python3"
  },
  "language_info": {
   "codemirror_mode": {
    "name": "ipython",
    "version": 3
   },
   "file_extension": ".py",
   "mimetype": "text/x-python",
   "name": "python",
   "nbconvert_exporter": "python",
   "pygments_lexer": "ipython3",
   "version": "3.6.3"
  }
 },
 "nbformat": 4,
 "nbformat_minor": 2
}
