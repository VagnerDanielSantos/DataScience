{
 "cells": [
  {
   "cell_type": "markdown",
   "metadata": {},
   "source": [
    "## Análise de Dados"
   ]
  },
  {
   "cell_type": "markdown",
   "metadata": {},
   "source": [
    "# O primeiro passo para a análise de dados, logicamente é a leitura do arquivo."
   ]
  },
  {
   "cell_type": "code",
   "execution_count": null,
   "metadata": {
    "collapsed": true
   },
   "outputs": [],
   "source": [
    "# O método OPEN do Python lê um arquivo e joga para uma variável.\n",
    "\n",
    "titanic_csv = open('E:\\Udemy - Cursos\\Data Science\\Pacotes\\titanic.csv', 'r')"
   ]
  },
  {
   "cell_type": "code",
   "execution_count": null,
   "metadata": {
    "collapsed": true
   },
   "outputs": [],
   "source": [
    "# O método readlines() idenficica cada linha através do \\n (Enter) \n",
    "# Uma LISTA de LINHAS\n",
    "\n",
    "titanic_csv.readlines()"
   ]
  },
  {
   "cell_type": "code",
   "execution_count": null,
   "metadata": {
    "collapsed": true
   },
   "outputs": [],
   "source": [
    "#  Algo a se ter cuidado ao ler um arquivo no Python é que o mesmo arquivo não pode ser lido duas vezes, isso acontece porque o\n",
    "# cursor fica após o último caracter. O método lê linhas\n",
    "\n",
    "titanic_csv.readlines()"
   ]
  },
  {
   "cell_type": "code",
   "execution_count": null,
   "metadata": {
    "collapsed": true
   },
   "outputs": [],
   "source": [
    "# Podemos posicionar novamente o cursor na linha 0\n",
    "\n",
    "titanic_csv.seek(0) # Retorna a leitura para a primeira linha"
   ]
  },
  {
   "cell_type": "code",
   "execution_count": null,
   "metadata": {
    "collapsed": true
   },
   "outputs": [],
   "source": [
    "# Aqui é lido o arquivo e enviado para resultado para outra variável\n",
    "\n",
    "linhas = titanic_csv.readlines()"
   ]
  },
  {
   "cell_type": "code",
   "execution_count": null,
   "metadata": {
    "collapsed": true
   },
   "outputs": [],
   "source": [
    "linhas"
   ]
  },
  {
   "cell_type": "code",
   "execution_count": null,
   "metadata": {
    "collapsed": true
   },
   "outputs": [],
   "source": [
    "# Imprimindo o primeiro elemento da lista\n",
    "\n",
    "linhas[0]"
   ]
  },
  {
   "cell_type": "code",
   "execution_count": null,
   "metadata": {
    "collapsed": true
   },
   "outputs": [],
   "source": [
    "linhas[1]"
   ]
  },
  {
   "cell_type": "code",
   "execution_count": null,
   "metadata": {
    "collapsed": true
   },
   "outputs": [],
   "source": [
    "# Note que temos o arquivo organizado em linhas e cada uma tem o seu índice\n",
    "\n",
    "linhas[23]"
   ]
  },
  {
   "cell_type": "code",
   "execution_count": null,
   "metadata": {
    "collapsed": true
   },
   "outputs": [],
   "source": [
    "# Após o arquivo estar na variável, devemos fechar o arquivo para liberar memória\n",
    "\n",
    "titanic_csv.close() # Fecha o arquivo - retira da memória"
   ]
  },
  {
   "cell_type": "code",
   "execution_count": null,
   "metadata": {
    "collapsed": true
   },
   "outputs": [],
   "source": [
    "# Vamos utilizar o método SPLIT para separar o elemento 0 por virgula, ou seja, separar cada cabeçalho\n",
    "\n",
    "linhas[0].split(',')"
   ]
  },
  {
   "cell_type": "code",
   "execution_count": null,
   "metadata": {
    "collapsed": true
   },
   "outputs": [],
   "source": [
    "# Podemos realizar esta operação com qualquer linha\n",
    "\n",
    "linhas[32].split(',')"
   ]
  },
  {
   "cell_type": "code",
   "execution_count": null,
   "metadata": {
    "collapsed": true
   },
   "outputs": [],
   "source": [
    "# Aqui será pego a linha 0 que contém o nome das colunas, e atribuir a uma variável\n",
    "\n",
    "colunas = linhas[0].split(',')"
   ]
  },
  {
   "cell_type": "code",
   "execution_count": null,
   "metadata": {
    "collapsed": true
   },
   "outputs": [],
   "source": [
    "colunas"
   ]
  },
  {
   "cell_type": "code",
   "execution_count": null,
   "metadata": {
    "collapsed": true
   },
   "outputs": [],
   "source": [
    "# Como aprendemos em Python básico, podemos acessar cada linha de uma lista através do índice\n",
    "\n",
    "colunas[0]"
   ]
  },
  {
   "cell_type": "code",
   "execution_count": null,
   "metadata": {
    "collapsed": true
   },
   "outputs": [],
   "source": [
    "# Cada coluna será a chave e os valores uma lista de Dicionário name: [ nameA, nameB, namC ]"
   ]
  },
  {
   "cell_type": "markdown",
   "metadata": {},
   "source": [
    "# colunas = [PassengerId,Survived,Pclass,Name,Sex,Age,SibSp,Parch,Ticket,Fare,Cabin,Embarked]\n",
    "# LInhas = é todo o dataset"
   ]
  },
  {
   "cell_type": "code",
   "execution_count": null,
   "metadata": {
    "collapsed": true
   },
   "outputs": [],
   "source": [
    "# Será criado uma variável dados, que receberá o conteúdo da linha 1, separado por vírgula como foi feito no cabeçalho\n",
    "\n",
    "dados = linhas[1].split(',')"
   ]
  },
  {
   "cell_type": "code",
   "execution_count": null,
   "metadata": {
    "collapsed": true
   },
   "outputs": [],
   "source": [
    "print('Colunas: ', colunas)\n",
    "print('Dados: ', dados)"
   ]
  },
  {
   "cell_type": "code",
   "execution_count": null,
   "metadata": {
    "collapsed": true
   },
   "outputs": [],
   "source": [
    "# Aqui é pego a primeira posição de cada lista e consegue-se correlacionar\n",
    "\n",
    "print(colunas[1])\n",
    "print(dados[1])"
   ]
  },
  {
   "cell_type": "code",
   "execution_count": null,
   "metadata": {
    "collapsed": true
   },
   "outputs": [],
   "source": [
    "# É boa pratica, sempre contar o número de elementos da Lista\n",
    "\n",
    "print(len('Colunas: ',colunas)), print(len('Dados: ',dados))"
   ]
  },
  {
   "cell_type": "code",
   "execution_count": null,
   "metadata": {
    "collapsed": true
   },
   "outputs": [],
   "source": [
    "# Problema- o nome das pessoas tem vírgula - REGEX PAL .*(qq texto qq qtde) \\s -> espaço em REGEX\n",
    "# www.regexpal.com"
   ]
  },
  {
   "cell_type": "markdown",
   "metadata": {
    "collapsed": true
   },
   "source": [
    "# O objetivo é retirar a vírgula e inverter a posição dos nomes"
   ]
  },
  {
   "cell_type": "code",
   "execution_count": null,
   "metadata": {
    "collapsed": true
   },
   "outputs": [],
   "source": [
    "import re # Regex Expression\n",
    "\n",
    "match = re.compiler(r'\"(.*)(,)(\\s.*)\"')\n",
    "match.sub(r'\"\\3 \\1\"', linhas[1])"
   ]
  },
  {
   "cell_type": "code",
   "execution_count": null,
   "metadata": {
    "collapsed": true
   },
   "outputs": [],
   "source": [
    "# Criando uma função que remove a vírgula dos nomes e troca a posição\n",
    "\n",
    "def tratar_nome(linha):\n",
    "    import me\n",
    "    match = re.compiler(r'\"(.*)(,)(\\s.*)\"')    \n",
    "    return match.sub(r'\"\\3 \\1\"', linha)"
   ]
  },
  {
   "cell_type": "code",
   "execution_count": null,
   "metadata": {
    "collapsed": true
   },
   "outputs": [],
   "source": [
    "# Agora é testado a função na linha 1\n",
    "\n",
    "tratar_nome(linhas[1])"
   ]
  },
  {
   "cell_type": "code",
   "execution_count": null,
   "metadata": {
    "collapsed": true
   },
   "outputs": [],
   "source": [
    "linha1_Tratada = tratar_nome(linhas[1])"
   ]
  },
  {
   "cell_type": "code",
   "execution_count": null,
   "metadata": {
    "collapsed": true
   },
   "outputs": [],
   "source": [
    "linha1_Separada = linha1_Tratada.split(',')"
   ]
  },
  {
   "cell_type": "code",
   "execution_count": null,
   "metadata": {
    "collapsed": true
   },
   "outputs": [],
   "source": [
    "print('Colunas: ', colunas)\n",
    "print('Linha Tratada: ', linha1_Tratada)\n",
    "print('Linha Separada: ', linha1_Separada)"
   ]
  },
  {
   "cell_type": "code",
   "execution_count": null,
   "metadata": {
    "collapsed": true
   },
   "outputs": [],
   "source": [
    "# Qual a diferença entre a Tratada e Separada ?\n",
    "\n",
    "print(type('Linha Tratada: ', linha1_Tratada))\n",
    "print(type('Linha Separada: ', linha1_Separada))"
   ]
  },
  {
   "cell_type": "code",
   "execution_count": null,
   "metadata": {
    "collapsed": true
   },
   "outputs": [],
   "source": [
    "print(len('Colunas: ', colunas)), print(len('Linha Separada: ', linha1_Separada)) "
   ]
  },
  {
   "cell_type": "code",
   "execution_count": null,
   "metadata": {
    "collapsed": true
   },
   "outputs": [],
   "source": [
    "# Criando o Dicionário - o Dicionário titanic_dados está recebendo a coluna como Chave e uma Lista vazia como Valor"
   ]
  },
  {
   "cell_type": "code",
   "execution_count": null,
   "metadata": {
    "collapsed": true
   },
   "outputs": [],
   "source": [
    "# Na criação do Dicionário, será criado as Chaves e os Valores como vazios\n",
    "\n",
    "titanic_dados = {}\n",
    "\n",
    "for coluna in colunas:\n",
    "    titanic_dados[coluna] = []\n",
    "titanic_dados    "
   ]
  },
  {
   "cell_type": "code",
   "execution_count": null,
   "metadata": {
    "collapsed": true
   },
   "outputs": [],
   "source": [
    "linhas[1] # Verificando cada item e cada Chave"
   ]
  },
  {
   "cell_type": "code",
   "execution_count": null,
   "metadata": {
    "collapsed": true
   },
   "outputs": [],
   "source": [
    "# Aqui é tratado todas as linhas, excluindo a linha 0 que é o cabeçalho\n",
    "\n",
    "for dado in linhas[1:]:\n",
    "    dado_tratado = tratar_nome(dado)\n",
    "    print(dado_tratado)"
   ]
  },
  {
   "cell_type": "code",
   "execution_count": null,
   "metadata": {
    "collapsed": true
   },
   "outputs": [],
   "source": [
    "# Aqui é feito a mesma coisa, porém, será separado as linhas por vírgula e converter em uma lista\n",
    "\n",
    "for dado in linhas[1:]:\n",
    "    dado_tratado = tratar_nome(dado)\n",
    "    dado_como_lista = dado_tratado.split(',')\n",
    "    print(dado_como_lista)"
   ]
  },
  {
   "cell_type": "code",
   "execution_count": null,
   "metadata": {
    "collapsed": true
   },
   "outputs": [],
   "source": [
    "#  Aqui é feito o mesmo passo dos anteriores, porém, será criado uma Lista para adicionar cada Linha convertida em linha \n",
    "# fazendo uma Lista aninhada\n",
    " \n",
    "dados_tratados = [] # Lista de lista\n",
    "\n",
    "for dado in linhas[1:]:\n",
    "    dado_tratado = tratar_nome(dado) # Tratando o nome\n",
    "    dado_como_lista = dado_tratado.split(',') # Transformando String em Linha\n",
    "    dados_tratados.append(dado_como_lista) # Adicionando o resultado em (dados_como_lista)"
   ]
  },
  {
   "cell_type": "code",
   "execution_count": null,
   "metadata": {
    "collapsed": true
   },
   "outputs": [],
   "source": [
    "print(dados_tratados[0])"
   ]
  },
  {
   "cell_type": "code",
   "execution_count": null,
   "metadata": {
    "collapsed": true
   },
   "outputs": [],
   "source": [
    "# colunas 1 e 4 do cabeçalho, colunas 1 e 4 da linha 1, conseguiu-se correlacionar\n",
    "\n",
    "print('Name: ', colunas[3]), print('Age: ', colunas[5])\n",
    "print(dados_tratados[1][3], dados_tratados[1][5])"
   ]
  },
  {
   "cell_type": "code",
   "execution_count": null,
   "metadata": {
    "collapsed": true
   },
   "outputs": [],
   "source": [
    "#  Note que colunas é a Lista de cabeçalho separada, e passageiro é a variável que estamos criando para o FOR e vai \n",
    "# percorrer dados_tratados\n",
    "\n",
    "for passageiro in dados_tratados:\n",
    "    print(colunas[3], passageiro[3]) # Mesmo índice coluna e passageiro"
   ]
  },
  {
   "cell_type": "markdown",
   "metadata": {},
   "source": [
    "# Utilizando o ENUMERATE. O enumerate RETORNA o ÍNDICE em que o elemento está e também o seu valor "
   ]
  },
  {
   "cell_type": "code",
   "execution_count": null,
   "metadata": {
    "collapsed": true
   },
   "outputs": [],
   "source": [
    "print(colunas)\n",
    "print('Coluna no índice 10:', colunas[10])"
   ]
  },
  {
   "cell_type": "code",
   "execution_count": null,
   "metadata": {
    "collapsed": true
   },
   "outputs": [],
   "source": [
    "# Pegando o índice para correlacionar com as colunas\n",
    "\n",
    "for passageiro in dados_tratados:\n",
    "    print(passageiros)\n",
    "    for indice, dado in enumerate(passageiro):\n",
    "        print('Índice: ', indice, 'Dado: ', dado    "
   ]
  },
  {
   "cell_type": "code",
   "execution_count": null,
   "metadata": {
    "collapsed": true
   },
   "outputs": [],
   "source": [
    "# 01 - Pegar cada Linha da variável dados_tratados e colocar em passageiro\n",
    "# 02 - Fazer um FOR em passageiro e pegar o índice e o restante dos dados\n",
    "# 03 - Vai até a variável coluna e pega a coluna no respectivo índice\n",
    "\n",
    "for passageiro in dados_tratados:\n",
    "    for indice, dado in enumerate(passageiro): # Enumerate retorna índice e valor ( atribuição multipla)\n",
    "        coluna = colunas[indice]\n",
    "        print(coluna, dado)"
   ]
  },
  {
   "cell_type": "markdown",
   "metadata": {},
   "source": [
    "# Linhas = \n",
    "#Todo o arquivo, sem nenhum tratamento, onde cada índice é uma linha, por exemplo: linha[0]\n",
    "\n",
    "# Colunas = \n",
    "#[PassengerId,Survived,Pclass,Name,Sex,Age,SibSp,Parch,Ticket,Fare,Cabin,Embarked]\n",
    "\n",
    "# Dados = \n",
    "#[4,1,1,\"Futrelle, Mrs. Jacques Heath (Lily May Peel)\",female,35,1,0,113803,53.1,C123,S]\n",
    "\n",
    "# titanic_dados = \n",
    "#O Dicionário com as Chaves (colunas) sem os valores"
   ]
  },
  {
   "cell_type": "code",
   "execution_count": null,
   "metadata": {
    "collapsed": true
   },
   "outputs": [],
   "source": [
    "print(titanic_dados)"
   ]
  },
  {
   "cell_type": "code",
   "execution_count": null,
   "metadata": {
    "collapsed": true
   },
   "outputs": [],
   "source": [
    "for passageiro in dados_tratados:\n",
    "    for indice, dado in enumerate(passageiro): \n",
    "        coluna = colunas[indice]\n",
    "        titanic_dados[coluna].append(dado)"
   ]
  },
  {
   "cell_type": "code",
   "execution_count": null,
   "metadata": {
    "collapsed": true
   },
   "outputs": [],
   "source": [
    "titanic_dados"
   ]
  },
  {
   "cell_type": "code",
   "execution_count": null,
   "metadata": {
    "collapsed": true
   },
   "outputs": [],
   "source": [
    "int(titanic_dados['Age'][0]) "
   ]
  },
  {
   "cell_type": "code",
   "execution_count": null,
   "metadata": {
    "collapsed": true
   },
   "outputs": [],
   "source": [
    "for dado in titanic_dados['age']:\n",
    "       print(dado)"
   ]
  },
  {
   "cell_type": "code",
   "execution_count": null,
   "metadata": {
    "collapsed": true
   },
   "outputs": [],
   "source": [
    "for indice, age in enumerate(titanic_dados['Age']):\n",
    "    if titanic_dados['Age'][indice] != '':\n",
    "        titanic_dados['Age'][indice] = float(age)\n",
    "    else:\n",
    "        titanic_dados['Age'][indice] = -1"
   ]
  },
  {
   "cell_type": "code",
   "execution_count": null,
   "metadata": {
    "collapsed": true
   },
   "outputs": [],
   "source": [
    "type(titanic_dados['Age'][0]"
   ]
  },
  {
   "cell_type": "code",
   "execution_count": null,
   "metadata": {
    "collapsed": true
   },
   "outputs": [],
   "source": [
    "print(max(titanic_dados['Age']))"
   ]
  },
  {
   "cell_type": "code",
   "execution_count": null,
   "metadata": {
    "collapsed": true
   },
   "outputs": [],
   "source": [
    "print(min(titanic_dados['Age']))"
   ]
  },
  {
   "cell_type": "code",
   "execution_count": null,
   "metadata": {
    "collapsed": true
   },
   "outputs": [],
   "source": [
    "lista_idades = []\n",
    "\n",
    "for idade in titanic_dados['Age']:\n",
    "    if idade != -1:\n",
    "        lista_idade.append(idade)"
   ]
  },
  {
   "cell_type": "code",
   "execution_count": null,
   "metadata": {
    "collapsed": true
   },
   "outputs": [],
   "source": [
    "def media(lista):\n",
    "    soma_total = sum(lista)\n",
    "    quantidade = len(lista)\n",
    "    return soma_total / quantidade  "
   ]
  },
  {
   "cell_type": "code",
   "execution_count": null,
   "metadata": {
    "collapsed": true
   },
   "outputs": [],
   "source": [
    "print(media(lista_idades))"
   ]
  },
  {
   "cell_type": "code",
   "execution_count": null,
   "metadata": {
    "collapsed": true
   },
   "outputs": [],
   "source": [
    "media_idades = media(lista_idades)"
   ]
  },
  {
   "cell_type": "code",
   "execution_count": null,
   "metadata": {
    "collapsed": true
   },
   "outputs": [],
   "source": [
    "for indice, age in enumerate(titanic_dados['Age']):\n",
    "    if age == -1:\n",
    "        titanic_dados['Age'][indice] = media_dados"
   ]
  },
  {
   "cell_type": "code",
   "execution_count": null,
   "metadata": {
    "collapsed": true
   },
   "outputs": [],
   "source": [
    "print(titanic_dados)"
   ]
  },
  {
   "cell_type": "markdown",
   "metadata": {},
   "source": [
    "# Importanto PANDAS"
   ]
  },
  {
   "cell_type": "code",
   "execution_count": null,
   "metadata": {
    "collapsed": true
   },
   "outputs": [],
   "source": [
    "import pandas\n",
    "\n",
    "titanic_dados = pandas.read_csv('titanic.csv')\n",
    "titanic_dados.head(10)"
   ]
  }
 ],
 "metadata": {
  "kernelspec": {
   "display_name": "Python 3",
   "language": "python",
   "name": "python3"
  },
  "language_info": {
   "codemirror_mode": {
    "name": "ipython",
    "version": 3
   },
   "file_extension": ".py",
   "mimetype": "text/x-python",
   "name": "python",
   "nbconvert_exporter": "python",
   "pygments_lexer": "ipython3",
   "version": "3.6.3"
  }
 },
 "nbformat": 4,
 "nbformat_minor": 2
}
