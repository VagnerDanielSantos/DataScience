{
 "cells": [
  {
   "cell_type": "markdown",
   "metadata": {},
   "source": [
    "# TUPLAS"
   ]
  },
  {
   "cell_type": "code",
   "execution_count": null,
   "metadata": {
    "collapsed": true
   },
   "outputs": [],
   "source": [
    "# [ ] é utilizado para listas\n",
    "# { } é utilizado para \n",
    "# ( ) é utilizado para Tuplas\n",
    "\n",
    "# OBS: A Tupla é IMUTÁVEL\n",
    "# OBS: A Tupla é INDEXADA"
   ]
  },
  {
   "cell_type": "code",
   "execution_count": 1,
   "metadata": {
    "collapsed": true
   },
   "outputs": [],
   "source": [
    "Rio_Janeiro = (2410, 1227) # Latitude, Longitude\n",
    "Salvador = (5816, 3039)\n",
    "Recife = (314, 5252)"
   ]
  },
  {
   "cell_type": "code",
   "execution_count": 2,
   "metadata": {},
   "outputs": [
    {
     "name": "stdout",
     "output_type": "stream",
     "text": [
      "(2410, 1227)\n",
      "(5816, 3039)\n",
      "(314, 5252)\n"
     ]
    }
   ],
   "source": [
    "print(Rio_Janeiro)\n",
    "print(Salvador)\n",
    "print(Recife)"
   ]
  },
  {
   "cell_type": "code",
   "execution_count": 3,
   "metadata": {},
   "outputs": [
    {
     "data": {
      "text/plain": [
       "tuple"
      ]
     },
     "execution_count": 3,
     "metadata": {},
     "output_type": "execute_result"
    }
   ],
   "source": [
    "# Verificando o tipo\n",
    "\n",
    "type(Salvador)"
   ]
  },
  {
   "cell_type": "code",
   "execution_count": 4,
   "metadata": {},
   "outputs": [
    {
     "name": "stdout",
     "output_type": "stream",
     "text": [
      "1227\n"
     ]
    }
   ],
   "source": [
    "# Elemento de uma tupla\n",
    "\n",
    "print(Rio_Janeiro[1])"
   ]
  },
  {
   "cell_type": "code",
   "execution_count": 6,
   "metadata": {},
   "outputs": [
    {
     "name": "stdout",
     "output_type": "stream",
     "text": [
      "As dimensões são: 52 x 40 x 100 \n",
      "As dimensões são: 52 x 40 x 100\n"
     ]
    }
   ],
   "source": [
    "# Descompactando Tuplas\n",
    "# Observe que as Tuplas estão sem parênteses, isso é frequentemente utilizado, mas não recomendado\n",
    "\n",
    "# O FORMAT é do tipo string\n",
    "\n",
    "### dimensoes = 52, 40, 100 ### Sem parênteses - Está errado\n",
    "dimensoes = (52, 40, 100) # com parênteses - Está correto\n",
    "largura, altura, profundidade = dimensoes\n",
    "\n",
    "print('As dimensões são: {} x {} x {} '.format(largura, altura, profundidade))\n",
    "print('As dimensões são:', largura, \"x\", altura, \"x\", profundidade)"
   ]
  },
  {
   "cell_type": "code",
   "execution_count": 7,
   "metadata": {},
   "outputs": [
    {
     "name": "stdout",
     "output_type": "stream",
     "text": [
      "A Latitude de Salvador é: 5816\n"
     ]
    }
   ],
   "source": [
    "print('A Latitude de Salvador é: {}'.format(Salvador[0]))"
   ]
  },
  {
   "cell_type": "code",
   "execution_count": 8,
   "metadata": {},
   "outputs": [
    {
     "ename": "TypeError",
     "evalue": "'tuple' object does not support item assignment",
     "output_type": "error",
     "traceback": [
      "\u001b[1;31m---------------------------------------------------------------------------\u001b[0m",
      "\u001b[1;31mTypeError\u001b[0m                                 Traceback (most recent call last)",
      "\u001b[1;32m<ipython-input-8-ca2e26b2b5cb>\u001b[0m in \u001b[0;36m<module>\u001b[1;34m()\u001b[0m\n\u001b[0;32m      1\u001b[0m \u001b[1;31m# Imutabilidade de uma Tupla\u001b[0m\u001b[1;33m\u001b[0m\u001b[1;33m\u001b[0m\u001b[0m\n\u001b[0;32m      2\u001b[0m \u001b[1;33m\u001b[0m\u001b[0m\n\u001b[1;32m----> 3\u001b[1;33m \u001b[0mSalvador\u001b[0m\u001b[1;33m[\u001b[0m\u001b[1;36m0\u001b[0m\u001b[1;33m]\u001b[0m \u001b[1;33m=\u001b[0m \u001b[1;36m1234\u001b[0m\u001b[1;33m\u001b[0m\u001b[0m\n\u001b[0m",
      "\u001b[1;31mTypeError\u001b[0m: 'tuple' object does not support item assignment"
     ]
    }
   ],
   "source": [
    "# Imutabilidade de uma Tupla\n",
    "\n",
    "Salvador[0] = 1234"
   ]
  },
  {
   "cell_type": "code",
   "execution_count": 9,
   "metadata": {
    "collapsed": true
   },
   "outputs": [],
   "source": [
    "del Salvador"
   ]
  },
  {
   "cell_type": "code",
   "execution_count": 10,
   "metadata": {},
   "outputs": [
    {
     "ename": "NameError",
     "evalue": "name 'Salvador' is not defined",
     "output_type": "error",
     "traceback": [
      "\u001b[1;31m---------------------------------------------------------------------------\u001b[0m",
      "\u001b[1;31mNameError\u001b[0m                                 Traceback (most recent call last)",
      "\u001b[1;32m<ipython-input-10-7871ea8fe74b>\u001b[0m in \u001b[0;36m<module>\u001b[1;34m()\u001b[0m\n\u001b[1;32m----> 1\u001b[1;33m \u001b[0mSalvador\u001b[0m\u001b[1;33m[\u001b[0m\u001b[1;36m0\u001b[0m\u001b[1;33m]\u001b[0m\u001b[1;33m\u001b[0m\u001b[0m\n\u001b[0m",
      "\u001b[1;31mNameError\u001b[0m: name 'Salvador' is not defined"
     ]
    }
   ],
   "source": [
    "Salvador[0]"
   ]
  },
  {
   "cell_type": "markdown",
   "metadata": {},
   "source": [
    "# Argumentos Padrões"
   ]
  },
  {
   "cell_type": "code",
   "execution_count": 11,
   "metadata": {
    "collapsed": true
   },
   "outputs": [],
   "source": [
    "def box (largura, altura, caracter):\n",
    "    print(caracter * largura) # Imprimirá o caracter multiplicado pela largura\n",
    "    \n",
    "    for i in range (altura - 2):\n",
    "        print(caracter + \" \" * (largura - 2) + caracter)\n",
    "        \n",
    "    print(caracter * largura)"
   ]
  },
  {
   "cell_type": "code",
   "execution_count": 12,
   "metadata": {},
   "outputs": [
    {
     "name": "stdout",
     "output_type": "stream",
     "text": [
      "##########\n",
      "#        #\n",
      "#        #\n",
      "#        #\n",
      "#        #\n",
      "#        #\n",
      "#        #\n",
      "#        #\n",
      "#        #\n",
      "##########\n"
     ]
    }
   ],
   "source": [
    "box(10, 10, \"#\")"
   ]
  },
  {
   "cell_type": "code",
   "execution_count": 19,
   "metadata": {
    "collapsed": true
   },
   "outputs": [],
   "source": [
    "def box (largura, altura, caracter = \"#\"):\n",
    "    \n",
    "    print(caracter * largura)\n",
    "    \n",
    "    for i in range(altura - 2):\n",
    "        print(caracter + \" \" * (largura - 2) + caracter)\n",
    "        \n",
    "    print(caracter * largura)\n",
    "    "
   ]
  },
  {
   "cell_type": "code",
   "execution_count": 20,
   "metadata": {},
   "outputs": [
    {
     "name": "stdout",
     "output_type": "stream",
     "text": [
      "####################################################################################################\n",
      "#                                                                                                  #\n",
      "#                                                                                                  #\n",
      "#                                                                                                  #\n",
      "#                                                                                                  #\n",
      "#                                                                                                  #\n",
      "#                                                                                                  #\n",
      "#                                                                                                  #\n",
      "#                                                                                                  #\n",
      "####################################################################################################\n"
     ]
    }
   ],
   "source": [
    "box(100, 10)"
   ]
  },
  {
   "cell_type": "markdown",
   "metadata": {},
   "source": [
    "# DICIONÁRIOS"
   ]
  },
  {
   "cell_type": "code",
   "execution_count": null,
   "metadata": {
    "collapsed": true
   },
   "outputs": [],
   "source": []
  }
 ],
 "metadata": {
  "kernelspec": {
   "display_name": "Python 3",
   "language": "python",
   "name": "python3"
  },
  "language_info": {
   "codemirror_mode": {
    "name": "ipython",
    "version": 3
   },
   "file_extension": ".py",
   "mimetype": "text/x-python",
   "name": "python",
   "nbconvert_exporter": "python",
   "pygments_lexer": "ipython3",
   "version": "3.6.3"
  }
 },
 "nbformat": 4,
 "nbformat_minor": 2
}
