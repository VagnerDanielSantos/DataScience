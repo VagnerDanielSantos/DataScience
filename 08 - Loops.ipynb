{
 "cells": [
  {
   "cell_type": "markdown",
   "metadata": {},
   "source": [
    "# WHILE"
   ]
  },
  {
   "cell_type": "code",
   "execution_count": 1,
   "metadata": {},
   "outputs": [
    {
     "name": "stdout",
     "output_type": "stream",
     "text": [
      "0\n",
      "1\n",
      "2\n",
      "3\n",
      "4\n",
      "5\n",
      "6\n",
      "7\n",
      "8\n",
      "9\n",
      "10\n",
      "11\n",
      "12\n",
      "13\n",
      "14\n"
     ]
    }
   ],
   "source": [
    "# O loop while requer dois cuidados\n",
    "# 01 - O Loop só é executado se a condição for TRUE\n",
    "# 02 - Dentro do Loop a condição obrigatóriamente tem que passar a FALSE ou um BREAK ser executado para que o Loop pare.\n",
    "\n",
    "contador = 0\n",
    "\n",
    "while contador < 15:\n",
    "    print(contador)\n",
    "    contador = contador + 1"
   ]
  },
  {
   "cell_type": "code",
   "execution_count": 2,
   "metadata": {},
   "outputs": [
    {
     "name": "stdout",
     "output_type": "stream",
     "text": [
      "0\n",
      "1\n",
      "2\n",
      "3\n",
      "4\n",
      "5\n",
      "6\n",
      "7\n",
      "8\n",
      "9\n",
      "Loop concluído !\n"
     ]
    }
   ],
   "source": [
    "# A exemplo do IF/ELSE, quando o ELSE é executado após o RETURN do IF, podemos também utilizar ELSE com WHILE\n",
    "# O Loop executará enquanto a condição do WHILE for verdadeira e depois entrará no ELSE\n",
    "\n",
    "x = 0\n",
    "\n",
    "while x < 10:\n",
    "    print(x)\n",
    "    x += 1 # x = x + 1 / x +* 2 / x +- 1\n",
    "else:\n",
    "    print('Loop concluído !')\n"
   ]
  },
  {
   "cell_type": "markdown",
   "metadata": {},
   "source": [
    "# Loop FOR"
   ]
  },
  {
   "cell_type": "code",
   "execution_count": null,
   "metadata": {
    "collapsed": true
   },
   "outputs": [],
   "source": [
    "#  A principal diferença entre o Loop FOR e WHILE é que o FOR vai ser executado pelo menos uma vez, \n",
    "# enquanto o WHILE será executado somente se a expressão for verdadeira."
   ]
  },
  {
   "cell_type": "code",
   "execution_count": 1,
   "metadata": {
    "collapsed": true
   },
   "outputs": [],
   "source": [
    "lista = ['Data Science', 'Estatística', 'Machine Learning', 'Python', 'R', 'MongoDB']"
   ]
  },
  {
   "cell_type": "code",
   "execution_count": 2,
   "metadata": {},
   "outputs": [
    {
     "name": "stdout",
     "output_type": "stream",
     "text": [
      "Data Science\n",
      "Estatística\n",
      "Machine Learning\n",
      "Python\n",
      "R\n",
      "MongoDB\n"
     ]
    }
   ],
   "source": [
    "for variavel in lista:\n",
    "    print(variavel)"
   ]
  },
  {
   "cell_type": "code",
   "execution_count": null,
   "metadata": {
    "collapsed": true
   },
   "outputs": [],
   "source": [
    "# Podemos também percorrer uma string"
   ]
  },
  {
   "cell_type": "code",
   "execution_count": 3,
   "metadata": {
    "collapsed": true
   },
   "outputs": [],
   "source": [
    "palavra = 'Data Science'"
   ]
  },
  {
   "cell_type": "code",
   "execution_count": 4,
   "metadata": {},
   "outputs": [
    {
     "name": "stdout",
     "output_type": "stream",
     "text": [
      "D\n",
      "a\n",
      "t\n",
      "a\n",
      " \n",
      "S\n",
      "c\n",
      "i\n",
      "e\n",
      "n\n",
      "c\n",
      "e\n"
     ]
    }
   ],
   "source": [
    "for variavel in palavra:\n",
    "    print(variavel)"
   ]
  },
  {
   "cell_type": "code",
   "execution_count": null,
   "metadata": {
    "collapsed": true
   },
   "outputs": [],
   "source": [
    "# Algo extremamente útil, são as funções BUILT-IN de listas"
   ]
  },
  {
   "cell_type": "code",
   "execution_count": 9,
   "metadata": {
    "collapsed": true
   },
   "outputs": [],
   "source": [
    "lista = []"
   ]
  },
  {
   "cell_type": "code",
   "execution_count": 11,
   "metadata": {},
   "outputs": [],
   "source": [
    "for variavel in 'Data Science':\n",
    "    lista.append(variavel)"
   ]
  },
  {
   "cell_type": "code",
   "execution_count": 12,
   "metadata": {},
   "outputs": [
    {
     "name": "stdout",
     "output_type": "stream",
     "text": [
      "['D', 'a', 't', 'a', ' ', 'S', 'c', 'i', 'e', 'n', 'c', 'e']\n"
     ]
    }
   ],
   "source": [
    "print(lista)"
   ]
  },
  {
   "cell_type": "code",
   "execution_count": null,
   "metadata": {
    "collapsed": true
   },
   "outputs": [],
   "source": [
    "# Números pares"
   ]
  },
  {
   "cell_type": "code",
   "execution_count": 6,
   "metadata": {
    "collapsed": true
   },
   "outputs": [],
   "source": [
    "lista = [1, 3, 2, 6, 7, 11, 13, 24, 66, 75, 99, 87]"
   ]
  },
  {
   "cell_type": "code",
   "execution_count": 7,
   "metadata": {},
   "outputs": [
    {
     "name": "stdout",
     "output_type": "stream",
     "text": [
      "2\n",
      "6\n",
      "24\n",
      "66\n"
     ]
    }
   ],
   "source": [
    "for variavel in lista:\n",
    "    if variavel % 2 == 0:\n",
    "        print(variavel)\n",
    "    "
   ]
  },
  {
   "cell_type": "code",
   "execution_count": null,
   "metadata": {
    "collapsed": true
   },
   "outputs": [],
   "source": [
    "# Copiando os elementos de uma lista para outra"
   ]
  },
  {
   "cell_type": "code",
   "execution_count": 13,
   "metadata": {
    "collapsed": true
   },
   "outputs": [],
   "source": [
    "Sao_Paulo = ['Palmeiras', 'Portuguesa', 'Guarani', 'Ponte Preta', 'Bragantino']\n",
    "Rio_Janeiro = ['Vasco', 'Botafogo', 'Fluminense', 'Flamengo', 'Bangu']"
   ]
  },
  {
   "cell_type": "code",
   "execution_count": 14,
   "metadata": {
    "collapsed": true
   },
   "outputs": [],
   "source": [
    "for time in Rio_Janeiro:\n",
    "    Sao_Paulo.append(time)"
   ]
  },
  {
   "cell_type": "code",
   "execution_count": 15,
   "metadata": {},
   "outputs": [
    {
     "data": {
      "text/plain": [
       "['Palmeiras',\n",
       " 'Portuguesa',\n",
       " 'Guarani',\n",
       " 'Ponte Preta',\n",
       " 'Bragantino',\n",
       " 'Vasco',\n",
       " 'Botafogo',\n",
       " 'Fluminense',\n",
       " 'Flamengo',\n",
       " 'Bangu']"
      ]
     },
     "execution_count": 15,
     "metadata": {},
     "output_type": "execute_result"
    }
   ],
   "source": [
    "Sao_Paulo"
   ]
  },
  {
   "cell_type": "markdown",
   "metadata": {},
   "source": [
    "# RANGE"
   ]
  },
  {
   "cell_type": "code",
   "execution_count": null,
   "metadata": {
    "collapsed": true
   },
   "outputs": [],
   "source": [
    "#  Podemos utilizar a função RANGE para simplificar um grande números de iterações, lembrando que no RANGE, a última posição\n",
    "# é EXCLUÍDA"
   ]
  },
  {
   "cell_type": "code",
   "execution_count": 16,
   "metadata": {},
   "outputs": [
    {
     "name": "stdout",
     "output_type": "stream",
     "text": [
      "1\n",
      "2\n",
      "3\n",
      "4\n",
      "5\n",
      "6\n",
      "7\n",
      "8\n",
      "9\n",
      "10\n"
     ]
    }
   ],
   "source": [
    "for i in range(1, 11):\n",
    "    print(i)"
   ]
  },
  {
   "cell_type": "code",
   "execution_count": null,
   "metadata": {
    "collapsed": true
   },
   "outputs": [],
   "source": [
    "# Não confundir"
   ]
  },
  {
   "cell_type": "code",
   "execution_count": 17,
   "metadata": {},
   "outputs": [
    {
     "name": "stdout",
     "output_type": "stream",
     "text": [
      "1\n",
      "1000\n"
     ]
    }
   ],
   "source": [
    "for i in (1, 1000):\n",
    "    print(i)"
   ]
  },
  {
   "cell_type": "code",
   "execution_count": null,
   "metadata": {
    "collapsed": true
   },
   "outputs": [],
   "source": [
    "# O interessante no RANGE, é poder definir o passo"
   ]
  },
  {
   "cell_type": "code",
   "execution_count": 18,
   "metadata": {},
   "outputs": [
    {
     "name": "stdout",
     "output_type": "stream",
     "text": [
      "0\n",
      "3\n",
      "6\n",
      "9\n",
      "12\n",
      "15\n",
      "18\n",
      "21\n",
      "24\n",
      "27\n",
      "30\n"
     ]
    }
   ],
   "source": [
    "for i in range (0, 31, 3):\n",
    "    print(i)"
   ]
  },
  {
   "cell_type": "code",
   "execution_count": 20,
   "metadata": {},
   "outputs": [
    {
     "name": "stdout",
     "output_type": "stream",
     "text": [
      "2\n",
      "6\n",
      "10\n",
      "14\n",
      "18\n",
      "22\n",
      "26\n",
      "30\n",
      "34\n",
      "38\n",
      "42\n",
      "46\n",
      "50\n"
     ]
    }
   ],
   "source": [
    "for i in range (1, 50, 4):\n",
    "    print(i + 1) "
   ]
  },
  {
   "cell_type": "markdown",
   "metadata": {},
   "source": [
    "# PASS e BREAK"
   ]
  },
  {
   "cell_type": "code",
   "execution_count": null,
   "metadata": {
    "collapsed": true
   },
   "outputs": [],
   "source": [
    "#  São comandos que atuam juntos com o comado WHILE e dão maior flexibilidade, pois podem interromper o fluxo antes \n",
    "# da condição principal tornar-se falsa."
   ]
  },
  {
   "cell_type": "code",
   "execution_count": 21,
   "metadata": {},
   "outputs": [
    {
     "name": "stdout",
     "output_type": "stream",
     "text": [
      "A condição continua verdadeira. O valor de I é:  0\n",
      "A condição continua verdadeira. O valor de I é:  1\n",
      "A condição continua verdadeira. O valor de I é:  2\n",
      "A condição continua verdadeira. O valor de I é:  3\n",
      "A condição continua verdadeira. O valor de I é:  4\n",
      "A condição continua verdadeira. O valor de I é:  5\n",
      "A condição continua verdadeira. O valor de I é:  6\n",
      "A condição continua verdadeira. O valor de I é:  7\n",
      "A condição continua verdadeira. O valor de I é:  8\n",
      "A condição continua verdadeira. O valor de I é:  9\n",
      "A condição continua verdadeira. O valor de I é:  10\n",
      "A condição continua verdadeira. O valor de I é:  11\n",
      "A condição continua verdadeira. O valor de I é:  12\n",
      "A condição continua verdadeira. O valor de I é:  13\n",
      "A condição continua verdadeira. O valor de I é:  14\n",
      "A condição continua verdadeira. O valor de I é:  15\n",
      "A condição continua verdadeira. O valor de I é:  16\n",
      "A condição continua verdadeira. O valor de I é:  17\n",
      "A condição continua verdadeira. O valor de I é:  18\n",
      "A condição continua verdadeira. O valor de I é:  19\n"
     ]
    }
   ],
   "source": [
    "# Observando a condição verdadeira\n",
    "\n",
    "i = 0\n",
    "\n",
    "while True:\n",
    "    print('A condição continua verdadeira. O valor de I é: ', str(i))\n",
    "    i = i + 1\n",
    "    \n",
    "    if i < 20:\n",
    "        pass\n",
    "    else:\n",
    "        break"
   ]
  },
  {
   "cell_type": "code",
   "execution_count": 22,
   "metadata": {},
   "outputs": [
    {
     "name": "stdout",
     "output_type": "stream",
     "text": [
      "A condição continua verdadeira. O valor de I é:  0\n",
      "A condição continua verdadeira. O valor de I é:  1\n",
      "A condição continua verdadeira. O valor de I é:  2\n",
      "A condição continua verdadeira. O valor de I é:  3\n",
      "A condição continua verdadeira. O valor de I é:  4\n",
      "A condição continua verdadeira. O valor de I é:  5\n",
      "A condição continua verdadeira. O valor de I é:  6\n",
      "A condição continua verdadeira. O valor de I é:  7\n",
      "A condição continua verdadeira. O valor de I é:  8\n",
      "A condição continua verdadeira. O valor de I é:  9\n",
      "A condição continua verdadeira. O valor de I é:  10\n",
      "A condição continua verdadeira. O valor de I é:  11\n",
      "A condição continua verdadeira. O valor de I é:  12\n",
      "A condição continua verdadeira. O valor de I é:  13\n",
      "A condição continua verdadeira. O valor de I é:  14\n",
      "A condição continua verdadeira. O valor de I é:  15\n",
      "A condição continua verdadeira. O valor de I é:  16\n",
      "A condição continua verdadeira. O valor de I é:  17\n",
      "A condição continua verdadeira. O valor de I é:  18\n",
      "A condição continua verdadeira. O valor de I é:  19\n",
      "A condição continua verdadeira. O valor de I é:  20\n"
     ]
    }
   ],
   "source": [
    "# Observando a condição verdadeira\n",
    "\n",
    "i = 0\n",
    "\n",
    "while True:\n",
    "    print('A condição continua verdadeira. O valor de I é: ', str(i))\n",
    "    i = i + 1\n",
    "    \n",
    "    if i > 20:\n",
    "        break\n",
    "    else:\n",
    "        pass"
   ]
  },
  {
   "cell_type": "code",
   "execution_count": 23,
   "metadata": {},
   "outputs": [
    {
     "name": "stdout",
     "output_type": "stream",
     "text": [
      "0\n",
      "1\n",
      "2\n",
      "3\n",
      "4\n",
      "5\n",
      "6\n",
      "7\n",
      "8\n",
      "9\n"
     ]
    }
   ],
   "source": [
    "i = 0\n",
    "\n",
    "while i < 1000:\n",
    "    if i == 10:\n",
    "        break\n",
    "    else:\n",
    "        pass\n",
    "    print(i)\n",
    "    i = i + 1"
   ]
  },
  {
   "cell_type": "code",
   "execution_count": 24,
   "metadata": {},
   "outputs": [
    {
     "name": "stdout",
     "output_type": "stream",
     "text": [
      "2\n",
      "4\n",
      "6\n",
      "8\n",
      "10\n",
      "12\n",
      "14\n",
      "16\n",
      "18\n",
      "20\n",
      "22\n",
      "24\n",
      "26\n",
      "28\n"
     ]
    }
   ],
   "source": [
    "# Podemos utilizar o PASS para imprimir números pares, por exemplo\n",
    "\n",
    "indice = 2\n",
    "\n",
    "while indice < 30:\n",
    "    \n",
    "    if indice % 2 == 1:\n",
    "        pass\n",
    "    else:\n",
    "        print(indice)\n",
    "        \n",
    "    indice = indice + 1"
   ]
  },
  {
   "cell_type": "code",
   "execution_count": 28,
   "metadata": {},
   "outputs": [
    {
     "name": "stdout",
     "output_type": "stream",
     "text": [
      "O número 3 é impar.\n",
      "O Numero 4 é par.\n",
      "O número 5 é impar.\n",
      "O Numero 6 é par.\n",
      "O número 7 é impar.\n",
      "O Numero 8 é par.\n",
      "O número 9 é impar.\n",
      "O Numero 10 é par.\n",
      "O número 11 é impar.\n",
      "O Numero 12 é par.\n",
      "O número 13 é impar.\n",
      "O Numero 14 é par.\n"
     ]
    }
   ],
   "source": [
    "num = 3\n",
    "\n",
    "while num < 15:\n",
    "    \n",
    "    if (num % 2 == 0):        \n",
    "        print('O Numero', num, 'é par.' )\n",
    "    else:\n",
    "        print('O número', num, 'é impar.')\n",
    "        \n",
    "    num = num + 1\n",
    "    "
   ]
  },
  {
   "cell_type": "markdown",
   "metadata": {},
   "source": [
    "# WHILE e FOR juntos"
   ]
  },
  {
   "cell_type": "code",
   "execution_count": 29,
   "metadata": {},
   "outputs": [
    {
     "name": "stdout",
     "output_type": "stream",
     "text": [
      "Iteração I: 0\n",
      "j 0\n",
      "j 1\n",
      "j 2\n",
      "j 3\n",
      "j 4\n",
      "Iteração I: 1\n",
      "j 0\n",
      "j 1\n",
      "j 2\n",
      "j 3\n",
      "j 4\n",
      "Iteração I: 2\n",
      "j 0\n",
      "j 1\n",
      "j 2\n",
      "j 3\n",
      "j 4\n",
      "Iteração I: 3\n",
      "j 0\n",
      "j 1\n",
      "j 2\n",
      "j 3\n",
      "j 4\n",
      "Iteração I: 4\n",
      "j 0\n",
      "j 1\n",
      "j 2\n",
      "j 3\n",
      "j 4\n",
      "Iteração I: 5\n",
      "j 0\n",
      "j 1\n",
      "j 2\n",
      "j 3\n",
      "j 4\n",
      "Iteração I: 6\n",
      "j 0\n",
      "j 1\n",
      "j 2\n",
      "j 3\n",
      "j 4\n",
      "Iteração I: 7\n",
      "j 0\n",
      "j 1\n",
      "j 2\n",
      "j 3\n",
      "j 4\n",
      "Iteração I: 8\n",
      "j 0\n",
      "j 1\n",
      "j 2\n",
      "j 3\n",
      "j 4\n",
      "Iteração I: 9\n",
      "j 0\n",
      "j 1\n",
      "j 2\n",
      "j 3\n",
      "j 4\n"
     ]
    }
   ],
   "source": [
    "for i in range (0, 10):\n",
    "    j = 0\n",
    "    print('Iteração I: ' + str(i))\n",
    "    \n",
    "    while j < 5:\n",
    "        print('j', j)\n",
    "        j = j + 1"
   ]
  }
 ],
 "metadata": {
  "kernelspec": {
   "display_name": "Python 3",
   "language": "python",
   "name": "python3"
  },
  "language_info": {
   "codemirror_mode": {
    "name": "ipython",
    "version": 3
   },
   "file_extension": ".py",
   "mimetype": "text/x-python",
   "name": "python",
   "nbconvert_exporter": "python",
   "pygments_lexer": "ipython3",
   "version": "3.6.3"
  }
 },
 "nbformat": 4,
 "nbformat_minor": 2
}
