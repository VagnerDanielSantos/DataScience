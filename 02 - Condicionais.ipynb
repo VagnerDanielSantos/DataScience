{
 "cells": [
  {
   "cell_type": "markdown",
   "metadata": {},
   "source": [
    "# CONDICIONAIS"
   ]
  },
  {
   "cell_type": "code",
   "execution_count": null,
   "metadata": {
    "collapsed": true
   },
   "outputs": [],
   "source": [
    "# IF - Compara uma expressão e resulta um booleano. Em caso de verdade entra no bloco, em caso de não verdade, segue o fluxo"
   ]
  },
  {
   "cell_type": "code",
   "execution_count": 1,
   "metadata": {},
   "outputs": [
    {
     "name": "stdout",
     "output_type": "stream",
     "text": [
      "Dentro do if\n"
     ]
    }
   ],
   "source": [
    "a = 'Dentro do if'\n",
    "b = 'Fora do if'\n",
    "\n",
    "if ( 2 == 2 ):\n",
    "    print(a)\n",
    "else:\n",
    "    print(b)"
   ]
  },
  {
   "cell_type": "code",
   "execution_count": 2,
   "metadata": {},
   "outputs": [
    {
     "name": "stdout",
     "output_type": "stream",
     "text": [
      "Menor que 40 e maior que 10\n"
     ]
    }
   ],
   "source": [
    "num = 40 \n",
    "\n",
    "if num > 40:\n",
    "    if num <= 50:\n",
    "        print('Menor que 50')\n",
    "    else:\n",
    "        print('Maior que 50')\n",
    "else:\n",
    "    if num <= 40:\n",
    "        if num >= 10:\n",
    "            print('Menor que 40 e maior que 10')\n",
    "        else:\n",
    "            print('Menor que 40 e meno que 10')"
   ]
  },
  {
   "cell_type": "code",
   "execution_count": 3,
   "metadata": {},
   "outputs": [
    {
     "name": "stdout",
     "output_type": "stream",
     "text": [
      "Opcao 3\n"
     ]
    }
   ],
   "source": [
    "if 2 > 3:\n",
    "    print('Opcao 1')\n",
    "if 2 == 3:\n",
    "    print('Opcao 2')\n",
    "if 2 < 3:\n",
    "    print('Opcao 3')\n",
    "else:\n",
    "    print('Opcao 4')"
   ]
  },
  {
   "cell_type": "code",
   "execution_count": 4,
   "metadata": {},
   "outputs": [
    {
     "name": "stdout",
     "output_type": "stream",
     "text": [
      "Opcao 3\n"
     ]
    }
   ],
   "source": [
    "if 2 > 3:\n",
    "    print('Opcao 1')\n",
    "elif 2 == 3:\n",
    "    print('Opcao 2')\n",
    "elif 2 < 3:\n",
    "    print('Opcao 3')\n",
    "else:\n",
    "    print('Opcao 4')"
   ]
  },
  {
   "cell_type": "code",
   "execution_count": 7,
   "metadata": {},
   "outputs": [
    {
     "name": "stdout",
     "output_type": "stream",
     "text": [
      "PAR\n"
     ]
    }
   ],
   "source": [
    "a = 8\n",
    "b = a % 2\n",
    "\n",
    "if b == 0:    \n",
    "    print(\"PAR\")\n",
    "else:\n",
    "    print('IMPAR')"
   ]
  }
 ],
 "metadata": {
  "kernelspec": {
   "display_name": "Python 3",
   "language": "python",
   "name": "python3"
  },
  "language_info": {
   "codemirror_mode": {
    "name": "ipython",
    "version": 3
   },
   "file_extension": ".py",
   "mimetype": "text/x-python",
   "name": "python",
   "nbconvert_exporter": "python",
   "pygments_lexer": "ipython3",
   "version": "3.6.3"
  }
 },
 "nbformat": 4,
 "nbformat_minor": 2
}
