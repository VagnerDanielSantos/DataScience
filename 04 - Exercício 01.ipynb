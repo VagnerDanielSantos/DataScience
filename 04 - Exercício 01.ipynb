{
 "cells": [
  {
   "cell_type": "code",
   "execution_count": null,
   "metadata": {},
   "outputs": [],
   "source": [
    "Exercício\n",
    "\n",
    "Na expressão abaixo:\n",
    "    \n",
    "Dados de acesso do cliente Universidade dos Dados\n",
    "\n",
    "01/02/2017 \"3.878.00\"\n",
    "02/02/2017 \"6.088.00\"\n",
    "03/02/2017 \"645.00\"\n",
    "04/02/2017 \"10.876.00\"\n",
    "\n",
    "Necessitamos do primeiro valor de acesso 3.878\n",
    "Armazene o valor em uma variável e imprima."
   ]
  },
  {
   "cell_type": "code",
   "execution_count": 29,
   "metadata": {},
   "outputs": [
    {
     "name": "stdout",
     "output_type": "stream",
     "text": [
      "Dados de acesso do cliente Universidade dos Dados\n",
      "\n",
      "01/02/2017 \"3345.878.00\"\n",
      "02/02/2017 \"6.088.00\"\n",
      "03/02/2017 \"645.00\"\n",
      "04/02/2017 \"10.876.00\"\n"
     ]
    }
   ],
   "source": [
    "# Ao utilizar três aspas simples, vira um comentário de bloo\n",
    "\n",
    "expr = '''Dados de acesso do cliente Universidade dos Dados\n",
    "\n",
    "01/02/2017 \"3345.878.00\"\n",
    "02/02/2017 \"6.088.00\"\n",
    "03/02/2017 \"645.00\"\n",
    "04/02/2017 \"10.876.00\"'''\n",
    "\n",
    "print(expr)"
   ]
  },
  {
   "cell_type": "code",
   "execution_count": 30,
   "metadata": {},
   "outputs": [
    {
     "name": "stdout",
     "output_type": "stream",
     "text": [
      "63\n"
     ]
    }
   ],
   "source": [
    "# Utilizando Indexadores e Find\n",
    "\n",
    "# OBS: SEMPRE procurar por padrão / padrões ( aspas duplas no início e fim do número )\n",
    "# COMENTÁRIO: Foi localizado o início do valor sem as aspas, ou seja, localizado através da função .find e acrescido de +1 \n",
    "#para pular as aspas.\n",
    "# O início está na posição 62\n",
    "\n",
    "inicio = expr.find('\"') + 1\n",
    "print(inicio)"
   ]
  },
  {
   "cell_type": "code",
   "execution_count": 31,
   "metadata": {
    "collapsed": true
   },
   "outputs": [],
   "source": [
    "# Agora será localizado o fim do número\n",
    "\n",
    "# OBS: SEMPRE procurar por padrão / padrões\n",
    "# COMENTÁRIO: Foi localizado o final do número incluindo as aspas devido o padrão ser o término por aspas.\n",
    "\n",
    "fim = expr.find('.00\"',inicio)"
   ]
  },
  {
   "cell_type": "code",
   "execution_count": 32,
   "metadata": {},
   "outputs": [
    {
     "data": {
      "text/plain": [
       "'3345.878'"
      ]
     },
     "execution_count": 32,
     "metadata": {},
     "output_type": "execute_result"
    }
   ],
   "source": [
    "expr[inicio:fim]"
   ]
  },
  {
   "cell_type": "code",
   "execution_count": null,
   "metadata": {
    "collapsed": true
   },
   "outputs": [],
   "source": []
  }
 ],
 "metadata": {
  "kernelspec": {
   "display_name": "Python 3",
   "language": "python",
   "name": "python3"
  },
  "language_info": {
   "codemirror_mode": {
    "name": "ipython",
    "version": 3
   },
   "file_extension": ".py",
   "mimetype": "text/x-python",
   "name": "python",
   "nbconvert_exporter": "python",
   "pygments_lexer": "ipython3",
   "version": "3.6.3"
  }
 },
 "nbformat": 4,
 "nbformat_minor": 2
}
