{
 "cells": [
  {
   "cell_type": "code",
   "execution_count": null,
   "metadata": {
    "collapsed": true
   },
   "outputs": [],
   "source": [
    "# Criar um diretório na pasta onde armazena os projetos"
   ]
  },
  {
   "cell_type": "code",
   "execution_count": 1,
   "metadata": {
    "collapsed": true
   },
   "outputs": [],
   "source": [
    "# Isto irá criar um arquivo. Quando o arquivo não existe, o parâmetro w cria um.\n",
    "\n",
    "arquivo = open('E:\\\\Udemy - Cursos\\\\Data Science\\\\Projetos - Python\\\\raw\\\\Exemplo.txt', 'w')"
   ]
  },
  {
   "cell_type": "code",
   "execution_count": null,
   "metadata": {
    "collapsed": true
   },
   "outputs": [],
   "source": [
    "# Ao tentar deletar o arquivo, o Python não permite, pois está utilizando o mesmo"
   ]
  },
  {
   "cell_type": "code",
   "execution_count": 4,
   "metadata": {},
   "outputs": [],
   "source": [
    "# Para apagar o arquivo, primeiro é necessário fechá-lo\n",
    "\n",
    "arquivo.close()"
   ]
  },
  {
   "cell_type": "code",
   "execution_count": 5,
   "metadata": {
    "collapsed": true
   },
   "outputs": [],
   "source": [
    "# Criando novamento arquivo\n",
    "\n",
    "arquivo = open('E:\\\\Udemy - Cursos\\\\Data Science\\\\Projetos - Python\\\\raw\\\\Exemplo.txt', 'w')"
   ]
  },
  {
   "cell_type": "code",
   "execution_count": 6,
   "metadata": {},
   "outputs": [
    {
     "data": {
      "text/plain": [
       "74"
      ]
     },
     "execution_count": 6,
     "metadata": {},
     "output_type": "execute_result"
    }
   ],
   "source": [
    "# Escrevendo algo dentro do arquivo\n",
    "\n",
    "arquivo.write('Este arquivo serve de ilustração de como criar e escrever dentro do mesmo.')"
   ]
  },
  {
   "cell_type": "code",
   "execution_count": 7,
   "metadata": {
    "collapsed": true
   },
   "outputs": [],
   "source": [
    "# Para verificar o conteúdo escrito, primeiro precisa fechar o arquivo\n",
    "\n",
    "arquivo.close()"
   ]
  },
  {
   "cell_type": "code",
   "execution_count": 8,
   "metadata": {
    "collapsed": true
   },
   "outputs": [],
   "source": [
    "# Pode-se abrir o arquivo em modo leitura e armazenar o conteúdo em uma variável\n",
    "\n",
    "arquivo = open('E:\\\\Udemy - Cursos\\\\Data Science\\\\Projetos - Python\\\\raw\\\\Exemplo.txt', 'r')\n",
    "\n",
    "conteudo = arquivo.read()"
   ]
  },
  {
   "cell_type": "code",
   "execution_count": 9,
   "metadata": {},
   "outputs": [
    {
     "data": {
      "text/plain": [
       "'Este arquivo serve de ilustração de como criar e escrever dentro do mesmo.'"
      ]
     },
     "execution_count": 9,
     "metadata": {},
     "output_type": "execute_result"
    }
   ],
   "source": [
    "conteudo"
   ]
  },
  {
   "cell_type": "code",
   "execution_count": 10,
   "metadata": {
    "collapsed": true
   },
   "outputs": [],
   "source": [
    "# É necessário fechar o arquivo\n",
    "\n",
    "arquivo.close()"
   ]
  },
  {
   "cell_type": "code",
   "execution_count": 12,
   "metadata": {},
   "outputs": [
    {
     "data": {
      "text/plain": [
       "50"
      ]
     },
     "execution_count": 12,
     "metadata": {},
     "output_type": "execute_result"
    }
   ],
   "source": [
    "# É possível escrever uma nova linha ( desta forma, o conteúdo antigo será apagado !)\n",
    "\n",
    "arquivo = open('E:\\\\Udemy - Cursos\\\\Data Science\\\\Projetos - Python\\\\raw\\\\Exemplo.txt', 'w')\n",
    "\n",
    "arquivo.write('Agora estou adicionando uma nova linha no arquivo.')"
   ]
  },
  {
   "cell_type": "code",
   "execution_count": 13,
   "metadata": {
    "collapsed": true
   },
   "outputs": [],
   "source": [
    "arquivo.close()"
   ]
  },
  {
   "cell_type": "code",
   "execution_count": 16,
   "metadata": {},
   "outputs": [
    {
     "data": {
      "text/plain": [
       "93"
      ]
     },
     "execution_count": 16,
     "metadata": {},
     "output_type": "execute_result"
    }
   ],
   "source": [
    "# Para não apagar o conteúdo anterior e adicionar uma nova linha, usa-se o append 'a'\n",
    "\n",
    "arquivo = open('E:\\\\Udemy - Cursos\\\\Data Science\\\\Projetos - Python\\\\raw\\\\Exemplo.txt', 'a')\n",
    "\n",
    "arquivo.write('\\n\\nAgora estou adicionando uma nova linha no arquivo. O conteúdo anterior deve estar presente.')"
   ]
  },
  {
   "cell_type": "code",
   "execution_count": 17,
   "metadata": {
    "collapsed": true
   },
   "outputs": [],
   "source": [
    "arquivo.close()"
   ]
  }
 ],
 "metadata": {
  "kernelspec": {
   "display_name": "Python 3",
   "language": "python",
   "name": "python3"
  },
  "language_info": {
   "codemirror_mode": {
    "name": "ipython",
    "version": 3
   },
   "file_extension": ".py",
   "mimetype": "text/x-python",
   "name": "python",
   "nbconvert_exporter": "python",
   "pygments_lexer": "ipython3",
   "version": "3.6.3"
  }
 },
 "nbformat": 4,
 "nbformat_minor": 2
}
